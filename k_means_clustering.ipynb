{
 "cells": [
  {
   "cell_type": "markdown",
   "metadata": {},
   "source": [
    "# First attempt at clustering a group of numbers"
   ]
  },
  {
   "cell_type": "markdown",
   "metadata": {},
   "source": [
    "### Takes a list of numbers and groups them into 2 clusters"
   ]
  },
  {
   "cell_type": "code",
   "execution_count": 1,
   "metadata": {},
   "outputs": [],
   "source": [
    "# Take a random list of numbers\n",
    "list_of_numbers = [1,2,3,5,7,10,13,18,24,29,35,41,48,56,67,75]"
   ]
  },
  {
   "cell_type": "code",
   "execution_count": 2,
   "metadata": {},
   "outputs": [],
   "source": [
    "# Define two empty clusters\n",
    "cluster1 = []\n",
    "cluster2 = [] "
   ]
  },
  {
   "cell_type": "code",
   "execution_count": 3,
   "metadata": {},
   "outputs": [],
   "source": [
    "# Randomly assign two means\n",
    "mean1 = 18\n",
    "mean2 = 24"
   ]
  },
  {
   "cell_type": "code",
   "execution_count": 4,
   "metadata": {},
   "outputs": [
    {
     "data": {
      "text/plain": [
       "[17, 16, 15, 13, 11, 8, 5, 0, 6, 11, 17, 23, 30, 38, 49, 57]"
      ]
     },
     "execution_count": 4,
     "metadata": {},
     "output_type": "execute_result"
    }
   ],
   "source": [
    "# Calculate the absolute difference of each number in list_of_numbers with mean1\n",
    "difference_list1 = []\n",
    "for item in list_of_numbers:\n",
    "    difference_list1.append(abs(item-mean1))\n",
    "difference_list1"
   ]
  },
  {
   "cell_type": "code",
   "execution_count": 5,
   "metadata": {},
   "outputs": [
    {
     "data": {
      "text/plain": [
       "[23, 22, 21, 19, 17, 14, 11, 6, 0, 5, 11, 17, 24, 32, 43, 51]"
      ]
     },
     "execution_count": 5,
     "metadata": {},
     "output_type": "execute_result"
    }
   ],
   "source": [
    "# Do the same for mean2\n",
    "difference_list2 = []\n",
    "for item in list_of_numbers:\n",
    "    difference_list2.append(abs(item-mean2))\n",
    "difference_list2"
   ]
  },
  {
   "cell_type": "code",
   "execution_count": 6,
   "metadata": {},
   "outputs": [],
   "source": [
    "# For each corresponding entry in difference_list1 and difference_list2, \n",
    "# if difference_list1 is less than difference_list2, then the item is added to the first cluster, \n",
    "# otherwise to the second cluster\n",
    "for i in range(len(list_of_numbers)):\n",
    "    if(difference_list1[i] <= difference_list2[i]):\n",
    "        cluster1.append(list_of_numbers[i])\n",
    "    else:\n",
    "        cluster2.append(list_of_numbers[i])"
   ]
  },
  {
   "cell_type": "code",
   "execution_count": 7,
   "metadata": {},
   "outputs": [
    {
     "name": "stdout",
     "output_type": "stream",
     "text": [
      "cluster1: [1, 2, 3, 5, 7, 10, 13, 18]\n",
      "cluster2: [24, 29, 35, 41, 48, 56, 67, 75]\n"
     ]
    }
   ],
   "source": [
    "# Now, the clusters look like the following:\n",
    "print(\"cluster1:\", cluster1)\n",
    "print(\"cluster2:\", cluster2)"
   ]
  },
  {
   "cell_type": "code",
   "execution_count": 8,
   "metadata": {},
   "outputs": [
    {
     "name": "stdout",
     "output_type": "stream",
     "text": [
      "mean1: 7.375\n",
      "mean2: 46.875\n"
     ]
    }
   ],
   "source": [
    "# Update mean1 with mean of cluster1 and mean2 with mean of cluster2\n",
    "sum1 = 0\n",
    "for item in cluster1:\n",
    "    sum1 += item\n",
    "mean1 = sum1/len(cluster1)\n",
    "sum2 = 0\n",
    "for item in cluster2:\n",
    "    sum2 += item\n",
    "mean2 = sum2/len(cluster2)\n",
    "print(\"mean1:\", mean1)\n",
    "print(\"mean2:\", mean2)"
   ]
  },
  {
   "cell_type": "code",
   "execution_count": 9,
   "metadata": {},
   "outputs": [],
   "source": [
    "# With this updated mean, repeat the process from finding the difference\n",
    "difference_list1 = []\n",
    "for item in list_of_numbers:\n",
    "    difference_list1.append(abs(item-mean1))\n",
    "    \n",
    "difference_list2 = []\n",
    "for item in list_of_numbers:\n",
    "    difference_list2.append(abs(item-mean2))\n",
    "difference_list2\n",
    "\n",
    "for i in range(len(list_of_numbers)):\n",
    "    if(difference_list1[i] <= difference_list2[i]):\n",
    "        cluster1.append(list_of_numbers[i])\n",
    "    else:\n",
    "        cluster2.append(list_of_numbers[i])"
   ]
  },
  {
   "cell_type": "code",
   "execution_count": 10,
   "metadata": {},
   "outputs": [
    {
     "name": "stdout",
     "output_type": "stream",
     "text": [
      "cluster1: [1, 2, 3, 5, 7, 10, 13, 18, 1, 2, 3, 5, 7, 10, 13, 18, 24]\n",
      "cluster2: [24, 29, 35, 41, 48, 56, 67, 75, 29, 35, 41, 48, 56, 67, 75]\n"
     ]
    }
   ],
   "source": [
    "# After 2nd iteration, the clusters look like:\n",
    "print(\"cluster1:\", cluster1)\n",
    "print(\"cluster2:\", cluster2)"
   ]
  },
  {
   "cell_type": "code",
   "execution_count": 11,
   "metadata": {},
   "outputs": [],
   "source": [
    "# Items from both the iterations seem to be appended to the clusters, \n",
    "# so it is necessary to empty the clusters before starting next iteration\n",
    "cluster1 = []\n",
    "cluster2 = []\n",
    "\n",
    "# Now we repeat the above process again\n",
    "\n",
    "difference_list1 = []\n",
    "for item in list_of_numbers:\n",
    "    difference_list1.append(abs(item-mean1))\n",
    "    \n",
    "difference_list2 = []\n",
    "for item in list_of_numbers:\n",
    "    difference_list2.append(abs(item-mean2))\n",
    "difference_list2\n",
    "\n",
    "for i in range(len(list_of_numbers)):\n",
    "    if(difference_list1[i] <= difference_list2[i]):\n",
    "        cluster1.append(list_of_numbers[i])\n",
    "    else:\n",
    "        cluster2.append(list_of_numbers[i])"
   ]
  },
  {
   "cell_type": "code",
   "execution_count": 12,
   "metadata": {},
   "outputs": [
    {
     "name": "stdout",
     "output_type": "stream",
     "text": [
      "cluster1: [1, 2, 3, 5, 7, 10, 13, 18, 24]\n",
      "cluster2: [29, 35, 41, 48, 56, 67, 75]\n"
     ]
    }
   ],
   "source": [
    "# Now, after 2nd iteration, the clusters look like:\n",
    "print(\"cluster1:\", cluster1)\n",
    "print(\"cluster2:\", cluster2)"
   ]
  },
  {
   "cell_type": "code",
   "execution_count": 13,
   "metadata": {
    "scrolled": true
   },
   "outputs": [
    {
     "name": "stdout",
     "output_type": "stream",
     "text": [
      "mean1: 9.222222222222221\n",
      "mean2: 50.142857142857146\n",
      "cluster1: [1, 2, 3, 5, 7, 10, 13, 18, 24, 29]\n",
      "cluster2: [35, 41, 48, 56, 67, 75]\n"
     ]
    }
   ],
   "source": [
    "# 3rd iteration\n",
    "sum1 = 0\n",
    "for item in cluster1:\n",
    "    sum1 += item\n",
    "mean1 = sum1/len(cluster1)\n",
    "sum2 = 0\n",
    "for item in cluster2:\n",
    "    sum2 += item\n",
    "mean2 = sum2/len(cluster2)\n",
    "print(\"mean1:\", mean1)\n",
    "print(\"mean2:\", mean2)\n",
    "\n",
    "cluster1 = []\n",
    "cluster2 = []\n",
    "\n",
    "# Now we repeat the above process again\n",
    "\n",
    "difference_list1 = []\n",
    "for item in list_of_numbers:\n",
    "    difference_list1.append(abs(item-mean1))\n",
    "    \n",
    "difference_list2 = []\n",
    "for item in list_of_numbers:\n",
    "    difference_list2.append(abs(item-mean2))\n",
    "difference_list2\n",
    "\n",
    "for i in range(len(list_of_numbers)):\n",
    "    if(difference_list1[i] <= difference_list2[i]):\n",
    "        cluster1.append(list_of_numbers[i])\n",
    "    else:\n",
    "        cluster2.append(list_of_numbers[i])\n",
    "        \n",
    "# After 3rd iteration, the clusters look like:\n",
    "print(\"cluster1:\", cluster1)\n",
    "print(\"cluster2:\", cluster2)"
   ]
  },
  {
   "cell_type": "code",
   "execution_count": 14,
   "metadata": {},
   "outputs": [
    {
     "name": "stdout",
     "output_type": "stream",
     "text": [
      "mean1: 11.2\n",
      "mean2: 53.666666666666664\n",
      "cluster1: [1, 2, 3, 5, 7, 10, 13, 18, 24, 29]\n",
      "cluster2: [35, 41, 48, 56, 67, 75]\n"
     ]
    }
   ],
   "source": [
    "# 4th iteration\n",
    "sum1 = 0\n",
    "for item in cluster1:\n",
    "    sum1 += item\n",
    "mean1 = sum1/len(cluster1)\n",
    "sum2 = 0\n",
    "for item in cluster2:\n",
    "    sum2 += item\n",
    "mean2 = sum2/len(cluster2)\n",
    "print(\"mean1:\", mean1)\n",
    "print(\"mean2:\", mean2)\n",
    "\n",
    "cluster1 = []\n",
    "cluster2 = []\n",
    "\n",
    "# Now we repeat the above process again\n",
    "\n",
    "difference_list1 = []\n",
    "for item in list_of_numbers:\n",
    "    difference_list1.append(abs(item-mean1))\n",
    "    \n",
    "difference_list2 = []\n",
    "for item in list_of_numbers:\n",
    "    difference_list2.append(abs(item-mean2))\n",
    "difference_list2\n",
    "\n",
    "for i in range(len(list_of_numbers)):\n",
    "    if(difference_list1[i] <= difference_list2[i]):\n",
    "        cluster1.append(list_of_numbers[i])\n",
    "    else:\n",
    "        cluster2.append(list_of_numbers[i])\n",
    "        \n",
    "# After 4th iteration, the clusters look like:\n",
    "print(\"cluster1:\", cluster1)\n",
    "print(\"cluster2:\", cluster2)"
   ]
  },
  {
   "cell_type": "markdown",
   "metadata": {},
   "source": [
    "Since the clusters don't change after 3rd and 4th iterations, we have successfully grouped the numbers.  "
   ]
  },
  {
   "cell_type": "markdown",
   "metadata": {},
   "source": [
    "# An improved version of the clustering of numbers"
   ]
  },
  {
   "cell_type": "markdown",
   "metadata": {},
   "source": [
    "### Takes the same list of numbers as above and groups them into the same 2 clusters, but with code reduction and clean up"
   ]
  },
  {
   "cell_type": "markdown",
   "metadata": {},
   "source": [
    "The above cells have a lot of duplicate code. We now try to simplify the above code. "
   ]
  },
  {
   "cell_type": "code",
   "execution_count": 15,
   "metadata": {},
   "outputs": [],
   "source": [
    "import numpy as np"
   ]
  },
  {
   "cell_type": "code",
   "execution_count": 16,
   "metadata": {},
   "outputs": [],
   "source": [
    "# Define the numbers and two empty clusters\n",
    "list_of_numbers = np.array([1,2,3,5,7,10,13,18,24,29,35,41,48,56,67,75])\n",
    "clusters = [[],[]]\n",
    "temp_clusters = [[1],[1]] # has to be different than clusters so that the while loop is executed at least once \n",
    "# clustered = False # A flag to make sure the while loop is executed at least once\n",
    "means = [18,24] # Random mean values for the two clusters\n",
    "iteration = 0 # counter for the number of iterations"
   ]
  },
  {
   "cell_type": "code",
   "execution_count": 17,
   "metadata": {},
   "outputs": [
    {
     "name": "stdout",
     "output_type": "stream",
     "text": [
      "After iteration 1, the clusters are:\n",
      "cluster 1:  [1, 2, 3, 5, 7, 10, 13, 18]\n",
      "cluster 2:  [24, 29, 35, 41, 48, 56, 67, 75]\n",
      "After iteration 2, the clusters are:\n",
      "cluster 1:  [1, 2, 3, 5, 7, 10, 13, 18, 24]\n",
      "cluster 2:  [29, 35, 41, 48, 56, 67, 75]\n",
      "After iteration 3, the clusters are:\n",
      "cluster 1:  [1, 2, 3, 5, 7, 10, 13, 18, 24, 29]\n",
      "cluster 2:  [35, 41, 48, 56, 67, 75]\n",
      "After iteration 4, the clusters are:\n",
      "cluster 1:  [1, 2, 3, 5, 7, 10, 13, 18, 24, 29]\n",
      "cluster 2:  [35, 41, 48, 56, 67, 75]\n",
      "After iteration 4, the clusters don't change, so these are the required clusters\n"
     ]
    }
   ],
   "source": [
    "# execute until the clusters don't change\n",
    "while(not(np.array_equal(clusters, temp_clusters))):\n",
    "    iteration += 1\n",
    "    temp_clusters = clusters # copy existing clusters to temp_clusters for comparison in next iteration\n",
    "    clusters = [[],[]] # reset clusters on every iteration\n",
    "    for item in list_of_numbers: # append the number to the cluster whose mean is closest to the number\n",
    "        if(abs(item-means[0])<=abs(item-means[1])):\n",
    "            clusters[0].append(item)\n",
    "        else:\n",
    "            clusters[1].append(item)\n",
    "            \n",
    "    # calculate mean for the updated clusters\n",
    "    means[0] = np.mean(clusters[0])\n",
    "    means[1] = np.mean(clusters[1])\n",
    "    \n",
    "    print(\"After iteration {}, the clusters are:\".format(iteration))\n",
    "    print(\"cluster 1: \", clusters[0])\n",
    "    print(\"cluster 2: \", clusters[1])\n",
    "print(\"After iteration {}, the clusters don't change, so these are the required clusters\".format(iteration))"
   ]
  },
  {
   "cell_type": "markdown",
   "metadata": {},
   "source": [
    "# Variable number of clusters"
   ]
  },
  {
   "cell_type": "markdown",
   "metadata": {},
   "source": [
    "### Variable random numbers and variable number of clusters"
   ]
  },
  {
   "cell_type": "code",
   "execution_count": 18,
   "metadata": {},
   "outputs": [],
   "source": [
    "import numpy as np"
   ]
  },
  {
   "cell_type": "code",
   "execution_count": 19,
   "metadata": {},
   "outputs": [],
   "source": [
    "lower_limit = 5\n",
    "upper_limit = 555\n",
    "no_of_items = 100\n",
    "\n",
    "np.random.seed(101) # to generate the same random numbers are generated every time\n",
    "list_of_numbers = np.random.randint(lower_limit, upper_limit, no_of_items)"
   ]
  },
  {
   "cell_type": "code",
   "execution_count": 20,
   "metadata": {},
   "outputs": [],
   "source": [
    "no_of_clusters = 5\n",
    "clusters = [[] for i in range(no_of_clusters)] # create empty list for each of the clusters\n",
    "temp_clusters = [[1] for i in range(no_of_clusters)] # create list of 1s for each of the clusters"
   ]
  },
  {
   "cell_type": "code",
   "execution_count": 21,
   "metadata": {},
   "outputs": [
    {
     "name": "stdout",
     "output_type": "stream",
     "text": [
      "After iteration 1, the clusters are:\n",
      "cluster 0: [342, 345, 348, 361, 362, 363, 367, 371, 376, 383, 383, 388, 391]\n",
      "cluster 1: [8, 10, 10, 15, 26, 45, 51, 52, 54, 64, 76, 80, 81, 87, 97, 99, 104, 108, 110, 115, 141, 142, 145, 154]\n",
      "cluster 2: [202, 208, 212, 219, 222, 231, 234, 240, 244, 244, 249, 254, 255, 259, 267, 269]\n",
      "cluster 3: [398, 399, 407, 407, 423, 424, 424, 441, 441, 445, 456, 462, 466, 468, 470, 475, 482, 483, 503, 504, 504, 508, 508, 510, 511, 512, 513, 517, 524, 528, 531, 540, 544, 545, 547]\n",
      "cluster 4: [278, 280, 280, 281, 289, 299, 305, 308, 310, 321, 332, 334]\n",
      "-----------------------------------\n",
      "After iteration 2, the clusters are:\n",
      "cluster 0: [342, 345, 348, 361, 362, 363, 367, 371, 376, 383, 383, 388, 391, 398, 399, 407, 407, 423]\n",
      "cluster 1: [8, 10, 10, 15, 26, 45, 51, 52, 54, 64, 76, 80, 81, 87, 97, 99, 104, 108, 110, 115, 141, 142, 145, 154]\n",
      "cluster 2: [202, 208, 212, 219, 222, 231, 234, 240, 244, 244, 249, 254, 255, 259, 267, 269]\n",
      "cluster 3: [424, 424, 441, 441, 445, 456, 462, 466, 468, 470, 475, 482, 483, 503, 504, 504, 508, 508, 510, 511, 512, 513, 517, 524, 528, 531, 540, 544, 545, 547]\n",
      "cluster 4: [278, 280, 280, 281, 289, 299, 305, 308, 310, 321, 332, 334]\n",
      "-----------------------------------\n",
      "After iteration 3, the clusters are:\n",
      "cluster 0: [342, 345, 348, 361, 362, 363, 367, 371, 376, 383, 383, 388, 391, 398, 399, 407, 407, 423, 424, 424]\n",
      "cluster 1: [8, 10, 10, 15, 26, 45, 51, 52, 54, 64, 76, 80, 81, 87, 97, 99, 104, 108, 110, 115, 141, 142, 145, 154]\n",
      "cluster 2: [202, 208, 212, 219, 222, 231, 234, 240, 244, 244, 249, 254, 255, 259, 267, 269]\n",
      "cluster 3: [441, 441, 445, 456, 462, 466, 468, 470, 475, 482, 483, 503, 504, 504, 508, 508, 510, 511, 512, 513, 517, 524, 528, 531, 540, 544, 545, 547]\n",
      "cluster 4: [278, 280, 280, 281, 289, 299, 305, 308, 310, 321, 332, 334]\n",
      "-----------------------------------\n",
      "After iteration 4, the clusters are:\n",
      "cluster 0: [345, 348, 361, 362, 363, 367, 371, 376, 383, 383, 388, 391, 398, 399, 407, 407, 423, 424, 424]\n",
      "cluster 1: [8, 10, 10, 15, 26, 45, 51, 52, 54, 64, 76, 80, 81, 87, 97, 99, 104, 108, 110, 115, 141, 142, 145, 154]\n",
      "cluster 2: [202, 208, 212, 219, 222, 231, 234, 240, 244, 244, 249, 254, 255, 259, 267, 269]\n",
      "cluster 3: [441, 441, 445, 456, 462, 466, 468, 470, 475, 482, 483, 503, 504, 504, 508, 508, 510, 511, 512, 513, 517, 524, 528, 531, 540, 544, 545, 547]\n",
      "cluster 4: [278, 280, 280, 281, 289, 299, 305, 308, 310, 321, 332, 334, 342]\n",
      "-----------------------------------\n",
      "After iteration 5, the clusters are:\n",
      "cluster 0: [345, 348, 361, 362, 363, 367, 371, 376, 383, 383, 388, 391, 398, 399, 407, 407, 423, 424, 424]\n",
      "cluster 1: [8, 10, 10, 15, 26, 45, 51, 52, 54, 64, 76, 80, 81, 87, 97, 99, 104, 108, 110, 115, 141, 142, 145, 154]\n",
      "cluster 2: [202, 208, 212, 219, 222, 231, 234, 240, 244, 244, 249, 254, 255, 259, 267, 269]\n",
      "cluster 3: [441, 441, 445, 456, 462, 466, 468, 470, 475, 482, 483, 503, 504, 504, 508, 508, 510, 511, 512, 513, 517, 524, 528, 531, 540, 544, 545, 547]\n",
      "cluster 4: [278, 280, 280, 281, 289, 299, 305, 308, 310, 321, 332, 334, 342]\n",
      "-----------------------------------\n",
      "After iteration 5, the clusters don't change, so these are the required clusters\n"
     ]
    }
   ],
   "source": [
    "means = np.random.randint(lower_limit, upper_limit, no_of_clusters) # random initial means for each of the cluster\n",
    "iteration = 0\n",
    "while(not(np.array_equal(clusters, temp_clusters))):\n",
    "    iteration += 1\n",
    "    temp_clusters = clusters\n",
    "    clusters = [[] for i in range(no_of_clusters)] # reset clusters on every iteration\n",
    "    for item in list_of_numbers:\n",
    "        min_value = upper_limit # set initial min value to the highest possible number in range\n",
    "        min_value_cluster_index = 0\n",
    "        for index, mean in enumerate(means):\n",
    "            difference = abs(item-mean) # calculate the absolute value between number and cluster's mean\n",
    "            if(difference<=min_value):\n",
    "                min_value = difference # update difference if new differnce is less than current difference\n",
    "                min_value_cluster_index = index # determine the cluster to which the number is to be appended \n",
    "        clusters[min_value_cluster_index].append(item) # add the number to the cluster\n",
    "        \n",
    "    print(\"After iteration {}, the clusters are:\".format(iteration))\n",
    "    for index, cluster in enumerate(clusters):\n",
    "        means[index] = np.mean(cluster) # with the updated clusters, calculate the new means\n",
    "        print(\"cluster {}: {}\".format(index, sorted(cluster, key=int))) # display the numbers in ascending order\n",
    "    print(\"-----------------------------------\")\n",
    "print(\"After iteration {}, the clusters don't change, so these are the required clusters\".format(iteration))"
   ]
  },
  {
   "cell_type": "markdown",
   "metadata": {},
   "source": [
    "# Clustering a set of points"
   ]
  },
  {
   "cell_type": "code",
   "execution_count": 22,
   "metadata": {},
   "outputs": [],
   "source": [
    "import numpy as np\n",
    "import matplotlib.pyplot as plt"
   ]
  },
  {
   "cell_type": "code",
   "execution_count": 23,
   "metadata": {},
   "outputs": [],
   "source": [
    "lower_limit = 5\n",
    "upper_limit = 500\n",
    "no_of_points = 100\n",
    "\n",
    "# Generate random numbers as reshape them to form a 2D array - for x and y-coordinates of points\n",
    "np.random.seed(100)\n",
    "points = np.random.randint(lower_limit,upper_limit,2*no_of_points).reshape(no_of_points,2)"
   ]
  },
  {
   "cell_type": "code",
   "execution_count": 24,
   "metadata": {},
   "outputs": [],
   "source": [
    "no_of_clusters = 3\n",
    "clusters = np.zeros(no_of_clusters) # initialize clusters with all zeros \n",
    "temp_clusters = np.ones(no_of_clusters) # initialize temp clusters with all ones \n",
    "# Generate random initial centroid for each of the cluster\n",
    "centroids = np.random.randint(lower_limit,upper_limit,2*no_of_clusters).reshape(no_of_clusters,2)\n",
    "iteration = 0"
   ]
  },
  {
   "cell_type": "code",
   "execution_count": 25,
   "metadata": {},
   "outputs": [
    {
     "name": "stdout",
     "output_type": "stream",
     "text": [
      "Initially:\n"
     ]
    },
    {
     "data": {
      "text/plain": [
       "<matplotlib.collections.PathCollection at 0x112d80eb8>"
      ]
     },
     "execution_count": 25,
     "metadata": {},
     "output_type": "execute_result"
    },
    {
     "data": {
      "image/png": "[encoded data removed]",
      "text/plain": [
       "<matplotlib.figure.Figure at 0x10d33acf8>"
      ]
     },
     "metadata": {},
     "output_type": "display_data"
    }
   ],
   "source": [
    "print(\"Initially:\")\n",
    "plt.scatter(points[:,0], points[:,1])"
   ]
  },
  {
   "cell_type": "code",
   "execution_count": 26,
   "metadata": {},
   "outputs": [
    {
     "name": "stdout",
     "output_type": "stream",
     "text": [
      "After iteration 1:\n",
      "After iteration 2:\n",
      "After iteration 3:\n",
      "After iteration 4:\n",
      "After iteration 5:\n"
     ]
    },
    {
     "data": {
      "image/png": "[encoded data removed]",
      "text/plain": [
       "<matplotlib.figure.Figure at 0x11611b240>"
      ]
     },
     "metadata": {},
     "output_type": "display_data"
    },
    {
     "data": {
      "image/png": "[encoded data removed]",
      "text/plain": [
       "<matplotlib.figure.Figure at 0x11611b898>"
      ]
     },
     "metadata": {},
     "output_type": "display_data"
    },
    {
     "data": {
      "image/png": "[encoded data removed]",
      "text/plain": [
       "<matplotlib.figure.Figure at 0x116164400>"
      ]
     },
     "metadata": {},
     "output_type": "display_data"
    },
    {
     "data": {
      "image/png": "[encoded data removed]",
      "text/plain": [
       "<matplotlib.figure.Figure at 0x1161a9f98>"
      ]
     },
     "metadata": {},
     "output_type": "display_data"
    },
    {
     "data": {
      "image/png": "[encoded data removed]",
      "text/plain": [
       "<matplotlib.figure.Figure at 0x1162faa20>"
      ]
     },
     "metadata": {},
     "output_type": "display_data"
    }
   ],
   "source": [
    "# Loop until the clusters don't change\n",
    "while(not(np.array_equal(clusters, temp_clusters))):\n",
    "    iteration += 1\n",
    "    temp_clusters = clusters\n",
    "    clusters = [[] for i in range(no_of_clusters)] # reset clusters on every iteration\n",
    "    for point in points:\n",
    "        min_distance = upper_limit # set minimum distance to the highest possible number\n",
    "        min_distance_cluster_index = 0\n",
    "        for index, centroid in enumerate(centroids):\n",
    "            # Calculate the distance of the point from the current centroid\n",
    "            distance = np.sqrt((point[0]-centroid[0])**2 + (point[1]-centroid[1])**2)\n",
    "            if(distance<=min_distance):\n",
    "                min_distance = distance # if distance is less than current min distance, updated min distance\n",
    "                min_distance_cluster_index = index # determine the cluster to which the point is to be added\n",
    "        # convert point from numpy array to list and append the point to the cluster\n",
    "        clusters[min_distance_cluster_index].append(point.tolist())\n",
    "\n",
    "    plt.figure() # to generate a new figure for every iteration\n",
    "    print(\"After iteration {}:\".format(iteration))\n",
    "    for index, cluster in enumerate(clusters):\n",
    "        cluster_array = np.array(cluster)\n",
    "        # calculate new centroid from updated cluster\n",
    "        centroid = []\n",
    "        centroid.append(np.mean(cluster_array[:,0]))\n",
    "        centroid.append(np.mean(cluster_array[:,1]))\n",
    "        # update the centroids\n",
    "        centroids[index] = centroid\n",
    "        np.random.seed(index*100)\n",
    "        colors = np.random.rand(3,) # 3 random values for R,G and B components\n",
    "        # scatter plot the points\n",
    "        plt.scatter(cluster_array[:,0],cluster_array[:,1],c=colors)\n",
    "        plt.scatter(centroid[0],centroid[1],c=colors,marker='x')"
   ]
  },
  {
   "cell_type": "markdown",
   "metadata": {},
   "source": [
    "# With scikit-learn"
   ]
  },
  {
   "cell_type": "code",
   "execution_count": 27,
   "metadata": {},
   "outputs": [],
   "source": [
    "import numpy as np\n",
    "import matplotlib.pyplot as plt\n",
    "from sklearn.cluster import KMeans"
   ]
  },
  {
   "cell_type": "code",
   "execution_count": 28,
   "metadata": {},
   "outputs": [],
   "source": [
    "lower_limit = 5\n",
    "upper_limit = 500\n",
    "no_of_points = 100\n",
    "\n",
    "# Generate random numbers as reshape them to form a 2D array - for x and y-coordinates of points\n",
    "np.random.seed(100)\n",
    "points = np.random.randint(lower_limit,upper_limit,2*no_of_points).reshape(no_of_points,2)\n",
    "\n",
    "no_of_clusters = 3"
   ]
  },
  {
   "cell_type": "code",
   "execution_count": 29,
   "metadata": {},
   "outputs": [],
   "source": [
    "kmeans = KMeans(n_clusters=no_of_clusters)"
   ]
  },
  {
   "cell_type": "code",
   "execution_count": 30,
   "metadata": {},
   "outputs": [
    {
     "data": {
      "text/plain": [
       "KMeans(algorithm='auto', copy_x=True, init='k-means++', max_iter=300,\n",
       "    n_clusters=3, n_init=10, n_jobs=1, precompute_distances='auto',\n",
       "    random_state=None, tol=0.0001, verbose=0)"
      ]
     },
     "execution_count": 30,
     "metadata": {},
     "output_type": "execute_result"
    }
   ],
   "source": [
    "kmeans.fit(points)"
   ]
  },
  {
   "cell_type": "code",
   "execution_count": 31,
   "metadata": {},
   "outputs": [
    {
     "data": {
      "text/plain": [
       "array([[412.07142857, 369.17857143],\n",
       "       [268.81818182, 105.        ],\n",
       "       [134.23076923, 311.87179487]])"
      ]
     },
     "execution_count": 31,
     "metadata": {},
     "output_type": "execute_result"
    }
   ],
   "source": [
    "kmeans.cluster_centers_"
   ]
  },
  {
   "cell_type": "code",
   "execution_count": 32,
   "metadata": {},
   "outputs": [
    {
     "data": {
      "text/plain": [
       "array([2, 0, 1, 0, 0, 1, 2, 2, 2, 2, 0, 2, 1, 2, 2, 0, 1, 1, 1, 2, 1, 2,\n",
       "       2, 1, 0, 1, 1, 0, 1, 2, 1, 0, 0, 2, 1, 1, 0, 0, 1, 2, 1, 1, 0, 0,\n",
       "       0, 1, 2, 0, 1, 2, 2, 2, 2, 1, 1, 2, 2, 2, 2, 1, 1, 2, 1, 0, 2, 2,\n",
       "       0, 2, 0, 0, 1, 0, 0, 1, 1, 2, 1, 2, 0, 2, 0, 2, 1, 0, 1, 0, 2, 2,\n",
       "       2, 2, 0, 0, 2, 1, 2, 2, 1, 1, 0, 2], dtype=int32)"
      ]
     },
     "execution_count": 32,
     "metadata": {},
     "output_type": "execute_result"
    }
   ],
   "source": [
    "kmeans.labels_"
   ]
  },
  {
   "cell_type": "code",
   "execution_count": 33,
   "metadata": {},
   "outputs": [
    {
     "data": {
      "text/plain": [
       "<matplotlib.collections.PathCollection at 0x1a186fbf60>"
      ]
     },
     "execution_count": 33,
     "metadata": {},
     "output_type": "execute_result"
    },
    {
     "data": {
      "image/png": "[encoded data removed]",
      "text/plain": [
       "<matplotlib.figure.Figure at 0x1163bc5f8>"
      ]
     },
     "metadata": {},
     "output_type": "display_data"
    }
   ],
   "source": [
    "plt.scatter(points[:,0],points[:,1],c=kmeans.labels_)\n",
    "plt.scatter(kmeans.cluster_centers_[:,0],kmeans.cluster_centers_[:,1], marker='x')"
   ]
  }
 ],
 "metadata": {
  "kernelspec": {
   "display_name": "Python 3",
   "language": "python",
   "name": "python3"
  },
  "language_info": {
   "codemirror_mode": {
    "name": "ipython",
    "version": 3
   },
   "file_extension": ".py",
   "mimetype": "text/x-python",
   "name": "python",
   "nbconvert_exporter": "python",
   "pygments_lexer": "ipython3",
   "version": "3.6.4"
  }
 },
 "nbformat": 4,
 "nbformat_minor": 2
}
